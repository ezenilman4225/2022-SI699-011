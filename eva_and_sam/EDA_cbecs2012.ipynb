{
 "cells": [
  {
   "cell_type": "code",
   "execution_count": 1,
   "id": "25cd5d70",
   "metadata": {},
   "outputs": [],
   "source": [
    "import pandas as pd\n",
    "import numpy as np\n",
    "import seaborn as sns\n",
    "import re"
   ]
  },
  {
   "cell_type": "code",
   "execution_count": 2,
   "id": "7b973ade",
   "metadata": {},
   "outputs": [
    {
     "name": "stdout",
     "output_type": "stream",
     "text": [
      "(6720, 1119)\n"
     ]
    },
    {
     "data": {
      "text/plain": [
       "PUBID        int64\n",
       "REGION       int64\n",
       "CENDIV       int64\n",
       "PBA          int64\n",
       "FREESTN    float64\n",
       "            ...   \n",
       "DHCLBTU    float64\n",
       "DHWTBTU    float64\n",
       "DHCKBTU    float64\n",
       "DHOTBTU    float64\n",
       "PUBCLIM      int64\n",
       "Length: 1119, dtype: object"
      ]
     },
     "execution_count": 2,
     "metadata": {},
     "output_type": "execute_result"
    }
   ],
   "source": [
    "df = pd.read_csv('2012_public_use_data_aug2016.csv')\n",
    "print(df.shape)\n",
    "df.dtypes"
   ]
  },
  {
   "cell_type": "code",
   "execution_count": 3,
   "id": "3fc294b2",
   "metadata": {},
   "outputs": [
    {
     "data": {
      "text/html": [
       "<div>\n",
       "<style scoped>\n",
       "    .dataframe tbody tr th:only-of-type {\n",
       "        vertical-align: middle;\n",
       "    }\n",
       "\n",
       "    .dataframe tbody tr th {\n",
       "        vertical-align: top;\n",
       "    }\n",
       "\n",
       "    .dataframe thead th {\n",
       "        text-align: right;\n",
       "    }\n",
       "</style>\n",
       "<table border=\"1\" class=\"dataframe\">\n",
       "  <thead>\n",
       "    <tr style=\"text-align: right;\">\n",
       "      <th></th>\n",
       "      <th>PUBID</th>\n",
       "      <th>REGION</th>\n",
       "      <th>CENDIV</th>\n",
       "      <th>PBA</th>\n",
       "      <th>FREESTN</th>\n",
       "      <th>SQFT</th>\n",
       "      <th>SQFTC</th>\n",
       "      <th>WLCNS</th>\n",
       "      <th>RFCNS</th>\n",
       "      <th>RFCOOL</th>\n",
       "      <th>...</th>\n",
       "      <th>FKCLBTU</th>\n",
       "      <th>FKWTBTU</th>\n",
       "      <th>FKCKBTU</th>\n",
       "      <th>FKOTBTU</th>\n",
       "      <th>DHHTBTU</th>\n",
       "      <th>DHCLBTU</th>\n",
       "      <th>DHWTBTU</th>\n",
       "      <th>DHCKBTU</th>\n",
       "      <th>DHOTBTU</th>\n",
       "      <th>PUBCLIM</th>\n",
       "    </tr>\n",
       "  </thead>\n",
       "  <tbody>\n",
       "    <tr>\n",
       "      <th>4048</th>\n",
       "      <td>4049</td>\n",
       "      <td>2</td>\n",
       "      <td>3</td>\n",
       "      <td>5</td>\n",
       "      <td>1.0</td>\n",
       "      <td>1400000</td>\n",
       "      <td>10</td>\n",
       "      <td>3</td>\n",
       "      <td>1</td>\n",
       "      <td>2</td>\n",
       "      <td>...</td>\n",
       "      <td>NaN</td>\n",
       "      <td>NaN</td>\n",
       "      <td>NaN</td>\n",
       "      <td>NaN</td>\n",
       "      <td>NaN</td>\n",
       "      <td>NaN</td>\n",
       "      <td>NaN</td>\n",
       "      <td>NaN</td>\n",
       "      <td>NaN</td>\n",
       "      <td>7</td>\n",
       "    </tr>\n",
       "    <tr>\n",
       "      <th>6287</th>\n",
       "      <td>6288</td>\n",
       "      <td>1</td>\n",
       "      <td>1</td>\n",
       "      <td>15</td>\n",
       "      <td>1.0</td>\n",
       "      <td>2400</td>\n",
       "      <td>2</td>\n",
       "      <td>1</td>\n",
       "      <td>1</td>\n",
       "      <td>2</td>\n",
       "      <td>...</td>\n",
       "      <td>0.0</td>\n",
       "      <td>1342.0</td>\n",
       "      <td>0.0</td>\n",
       "      <td>0.0</td>\n",
       "      <td>NaN</td>\n",
       "      <td>NaN</td>\n",
       "      <td>NaN</td>\n",
       "      <td>NaN</td>\n",
       "      <td>NaN</td>\n",
       "      <td>1</td>\n",
       "    </tr>\n",
       "    <tr>\n",
       "      <th>4050</th>\n",
       "      <td>4051</td>\n",
       "      <td>3</td>\n",
       "      <td>7</td>\n",
       "      <td>25</td>\n",
       "      <td>1.0</td>\n",
       "      <td>6000</td>\n",
       "      <td>3</td>\n",
       "      <td>5</td>\n",
       "      <td>5</td>\n",
       "      <td>1</td>\n",
       "      <td>...</td>\n",
       "      <td>NaN</td>\n",
       "      <td>NaN</td>\n",
       "      <td>NaN</td>\n",
       "      <td>NaN</td>\n",
       "      <td>NaN</td>\n",
       "      <td>NaN</td>\n",
       "      <td>NaN</td>\n",
       "      <td>NaN</td>\n",
       "      <td>NaN</td>\n",
       "      <td>2</td>\n",
       "    </tr>\n",
       "    <tr>\n",
       "      <th>2061</th>\n",
       "      <td>2062</td>\n",
       "      <td>3</td>\n",
       "      <td>7</td>\n",
       "      <td>5</td>\n",
       "      <td>1.0</td>\n",
       "      <td>168000</td>\n",
       "      <td>7</td>\n",
       "      <td>3</td>\n",
       "      <td>7</td>\n",
       "      <td>2</td>\n",
       "      <td>...</td>\n",
       "      <td>NaN</td>\n",
       "      <td>NaN</td>\n",
       "      <td>NaN</td>\n",
       "      <td>NaN</td>\n",
       "      <td>NaN</td>\n",
       "      <td>NaN</td>\n",
       "      <td>NaN</td>\n",
       "      <td>NaN</td>\n",
       "      <td>NaN</td>\n",
       "      <td>3</td>\n",
       "    </tr>\n",
       "    <tr>\n",
       "      <th>3681</th>\n",
       "      <td>3682</td>\n",
       "      <td>4</td>\n",
       "      <td>9</td>\n",
       "      <td>5</td>\n",
       "      <td>1.0</td>\n",
       "      <td>152000</td>\n",
       "      <td>7</td>\n",
       "      <td>2</td>\n",
       "      <td>1</td>\n",
       "      <td>1</td>\n",
       "      <td>...</td>\n",
       "      <td>NaN</td>\n",
       "      <td>NaN</td>\n",
       "      <td>NaN</td>\n",
       "      <td>NaN</td>\n",
       "      <td>NaN</td>\n",
       "      <td>NaN</td>\n",
       "      <td>NaN</td>\n",
       "      <td>NaN</td>\n",
       "      <td>NaN</td>\n",
       "      <td>3</td>\n",
       "    </tr>\n",
       "  </tbody>\n",
       "</table>\n",
       "<p>5 rows × 1119 columns</p>\n",
       "</div>"
      ],
      "text/plain": [
       "      PUBID  REGION  CENDIV  PBA  FREESTN     SQFT  SQFTC  WLCNS  RFCNS  \\\n",
       "4048   4049       2       3    5      1.0  1400000     10      3      1   \n",
       "6287   6288       1       1   15      1.0     2400      2      1      1   \n",
       "4050   4051       3       7   25      1.0     6000      3      5      5   \n",
       "2061   2062       3       7    5      1.0   168000      7      3      7   \n",
       "3681   3682       4       9    5      1.0   152000      7      2      1   \n",
       "\n",
       "      RFCOOL  ...  FKCLBTU  FKWTBTU  FKCKBTU  FKOTBTU  DHHTBTU  DHCLBTU  \\\n",
       "4048       2  ...      NaN      NaN      NaN      NaN      NaN      NaN   \n",
       "6287       2  ...      0.0   1342.0      0.0      0.0      NaN      NaN   \n",
       "4050       1  ...      NaN      NaN      NaN      NaN      NaN      NaN   \n",
       "2061       2  ...      NaN      NaN      NaN      NaN      NaN      NaN   \n",
       "3681       1  ...      NaN      NaN      NaN      NaN      NaN      NaN   \n",
       "\n",
       "      DHWTBTU  DHCKBTU  DHOTBTU  PUBCLIM  \n",
       "4048      NaN      NaN      NaN        7  \n",
       "6287      NaN      NaN      NaN        1  \n",
       "4050      NaN      NaN      NaN        2  \n",
       "2061      NaN      NaN      NaN        3  \n",
       "3681      NaN      NaN      NaN        3  \n",
       "\n",
       "[5 rows x 1119 columns]"
      ]
     },
     "execution_count": 3,
     "metadata": {},
     "output_type": "execute_result"
    }
   ],
   "source": [
    "df.sample(5)"
   ]
  },
  {
   "cell_type": "code",
   "execution_count": 4,
   "id": "22a57485",
   "metadata": {},
   "outputs": [
    {
     "data": {
      "text/html": [
       "<div>\n",
       "<style scoped>\n",
       "    .dataframe tbody tr th:only-of-type {\n",
       "        vertical-align: middle;\n",
       "    }\n",
       "\n",
       "    .dataframe tbody tr th {\n",
       "        vertical-align: top;\n",
       "    }\n",
       "\n",
       "    .dataframe thead th {\n",
       "        text-align: right;\n",
       "    }\n",
       "</style>\n",
       "<table border=\"1\" class=\"dataframe\">\n",
       "  <thead>\n",
       "    <tr style=\"text-align: right;\">\n",
       "      <th></th>\n",
       "      <th>category</th>\n",
       "      <th>file_order</th>\n",
       "      <th>col_name</th>\n",
       "      <th>col_type</th>\n",
       "      <th>length</th>\n",
       "      <th>format</th>\n",
       "      <th>col_description</th>\n",
       "      <th>codes</th>\n",
       "      <th>codes_dict</th>\n",
       "    </tr>\n",
       "  </thead>\n",
       "  <tbody>\n",
       "    <tr>\n",
       "      <th>0</th>\n",
       "      <td>0</td>\n",
       "      <td>1.0</td>\n",
       "      <td>PUBID</td>\n",
       "      <td>Char</td>\n",
       "      <td>5.0</td>\n",
       "      <td>NaN</td>\n",
       "      <td>Building identifier</td>\n",
       "      <td>00001 - 06720</td>\n",
       "      <td>{'00001 - 06720': 'continuous numerical range'}</td>\n",
       "    </tr>\n",
       "    <tr>\n",
       "      <th>1</th>\n",
       "      <td>0</td>\n",
       "      <td>2.0</td>\n",
       "      <td>REGION</td>\n",
       "      <td>Char</td>\n",
       "      <td>1.0</td>\n",
       "      <td>$REGION.</td>\n",
       "      <td>Census region</td>\n",
       "      <td>'1' = 'Northeast'\\n'2' = 'Midwest'\\n'3' = 'Sou...</td>\n",
       "      <td>{'1': 'Northeast', '2': 'Midwest', '3': 'South...</td>\n",
       "    </tr>\n",
       "    <tr>\n",
       "      <th>2</th>\n",
       "      <td>0</td>\n",
       "      <td>3.0</td>\n",
       "      <td>CENDIV</td>\n",
       "      <td>Char</td>\n",
       "      <td>1.0</td>\n",
       "      <td>$CENDIV.</td>\n",
       "      <td>Census division</td>\n",
       "      <td>'1' = 'New England'\\n'2' = 'Middle Atlantic'\\n...</td>\n",
       "      <td>{'1': 'New England', '2': 'Middle Atlantic', '...</td>\n",
       "    </tr>\n",
       "    <tr>\n",
       "      <th>3</th>\n",
       "      <td>0</td>\n",
       "      <td>4.0</td>\n",
       "      <td>PBA</td>\n",
       "      <td>Char</td>\n",
       "      <td>2.0</td>\n",
       "      <td>$PBA.</td>\n",
       "      <td>Principal building activity</td>\n",
       "      <td>'01' = 'Vacant'\\n'02' = 'Office'\\n'04' = 'Labo...</td>\n",
       "      <td>{'01': 'Vacant', '02': 'Office', '04': 'Labora...</td>\n",
       "    </tr>\n",
       "    <tr>\n",
       "      <th>4</th>\n",
       "      <td>1</td>\n",
       "      <td>5.0</td>\n",
       "      <td>FREESTN</td>\n",
       "      <td>Char</td>\n",
       "      <td>1.0</td>\n",
       "      <td>$YES.</td>\n",
       "      <td>Freestanding building</td>\n",
       "      <td>1' = 'Yes'\\nMissing='No'</td>\n",
       "      <td>{'1': 'Yes', 'Missing': 'No'}</td>\n",
       "    </tr>\n",
       "  </tbody>\n",
       "</table>\n",
       "</div>"
      ],
      "text/plain": [
       "   category  file_order col_name col_type  length    format  \\\n",
       "0         0         1.0    PUBID     Char     5.0       NaN   \n",
       "1         0         2.0   REGION     Char     1.0  $REGION.   \n",
       "2         0         3.0   CENDIV     Char     1.0  $CENDIV.   \n",
       "3         0         4.0      PBA     Char     2.0     $PBA.   \n",
       "4         1         5.0  FREESTN     Char     1.0     $YES.   \n",
       "\n",
       "               col_description  \\\n",
       "0          Building identifier   \n",
       "1                Census region   \n",
       "2              Census division   \n",
       "3  Principal building activity   \n",
       "4        Freestanding building   \n",
       "\n",
       "                                               codes  \\\n",
       "0                                      00001 - 06720   \n",
       "1  '1' = 'Northeast'\\n'2' = 'Midwest'\\n'3' = 'Sou...   \n",
       "2  '1' = 'New England'\\n'2' = 'Middle Atlantic'\\n...   \n",
       "3  '01' = 'Vacant'\\n'02' = 'Office'\\n'04' = 'Labo...   \n",
       "4                          1' = 'Yes'\\nMissing='No'    \n",
       "\n",
       "                                          codes_dict  \n",
       "0    {'00001 - 06720': 'continuous numerical range'}  \n",
       "1  {'1': 'Northeast', '2': 'Midwest', '3': 'South...  \n",
       "2  {'1': 'New England', '2': 'Middle Atlantic', '...  \n",
       "3  {'01': 'Vacant', '02': 'Office', '04': 'Labora...  \n",
       "4                      {'1': 'Yes', 'Missing': 'No'}  "
      ]
     },
     "execution_count": 4,
     "metadata": {},
     "output_type": "execute_result"
    }
   ],
   "source": [
    "# update with new codebook created from \"clean_cbecs2012_codebook.ipynb\"\n",
    "df_codebook = pd.read_csv('2012cbecs_codebook_wDicts.csv')\n",
    "df_codebook.head()"
   ]
  },
  {
   "cell_type": "code",
   "execution_count": 5,
   "id": "b9bb202c",
   "metadata": {},
   "outputs": [
    {
     "name": "stdout",
     "output_type": "stream",
     "text": [
      "[ 0  1  2  3  4  5  6  7 10]\n"
     ]
    }
   ],
   "source": [
    "print(df_codebook.category.unique())"
   ]
  },
  {
   "cell_type": "code",
   "execution_count": 6,
   "id": "9e89a205",
   "metadata": {},
   "outputs": [],
   "source": [
    "category_map = {}\n",
    "for cat in df_codebook.category.unique():\n",
    "    category_cols_df = df_codebook[df_codebook['category'] == cat]\n",
    "    cat_cols = []\n",
    "    for col in category_cols_df.col_name.values:\n",
    "        if type(col) == str:\n",
    "            cat_cols.append(col)\n",
    "    category_map[cat] = cat_cols"
   ]
  },
  {
   "cell_type": "code",
   "execution_count": 7,
   "id": "5f6ecf95",
   "metadata": {},
   "outputs": [
    {
     "name": "stdout",
     "output_type": "stream",
     "text": [
      "516\n"
     ]
    }
   ],
   "source": [
    "keep_cols = []\n",
    "for wanted_cols in category_map.values():\n",
    "    for col in wanted_cols:\n",
    "        keep_cols.append(col)\n",
    "print(len(keep_cols))"
   ]
  },
  {
   "cell_type": "markdown",
   "id": "bf674bcf",
   "metadata": {},
   "source": [
    "## EDA\n",
    "\n",
    "Separated by Category (1-7, 10)"
   ]
  },
  {
   "cell_type": "code",
   "execution_count": 8,
   "id": "8c2a117b",
   "metadata": {},
   "outputs": [
    {
     "name": "stdout",
     "output_type": "stream",
     "text": [
      "(6720, 516)\n"
     ]
    },
    {
     "data": {
      "text/html": [
       "<div>\n",
       "<style scoped>\n",
       "    .dataframe tbody tr th:only-of-type {\n",
       "        vertical-align: middle;\n",
       "    }\n",
       "\n",
       "    .dataframe tbody tr th {\n",
       "        vertical-align: top;\n",
       "    }\n",
       "\n",
       "    .dataframe thead th {\n",
       "        text-align: right;\n",
       "    }\n",
       "</style>\n",
       "<table border=\"1\" class=\"dataframe\">\n",
       "  <thead>\n",
       "    <tr style=\"text-align: right;\">\n",
       "      <th></th>\n",
       "      <th>PUBID</th>\n",
       "      <th>REGION</th>\n",
       "      <th>CENDIV</th>\n",
       "      <th>PBA</th>\n",
       "      <th>FREESTN</th>\n",
       "      <th>SQFT</th>\n",
       "      <th>SQFTC</th>\n",
       "      <th>WLCNS</th>\n",
       "      <th>RFCNS</th>\n",
       "      <th>RFCOOL</th>\n",
       "      <th>...</th>\n",
       "      <th>FKCLBTU</th>\n",
       "      <th>FKWTBTU</th>\n",
       "      <th>FKCKBTU</th>\n",
       "      <th>FKOTBTU</th>\n",
       "      <th>DHHTBTU</th>\n",
       "      <th>DHCLBTU</th>\n",
       "      <th>DHWTBTU</th>\n",
       "      <th>DHCKBTU</th>\n",
       "      <th>DHOTBTU</th>\n",
       "      <th>PUBCLIM</th>\n",
       "    </tr>\n",
       "  </thead>\n",
       "  <tbody>\n",
       "    <tr>\n",
       "      <th>2153</th>\n",
       "      <td>2154</td>\n",
       "      <td>3</td>\n",
       "      <td>5</td>\n",
       "      <td>13</td>\n",
       "      <td>1.0</td>\n",
       "      <td>600000</td>\n",
       "      <td>9</td>\n",
       "      <td>1</td>\n",
       "      <td>1</td>\n",
       "      <td>2</td>\n",
       "      <td>...</td>\n",
       "      <td>0.0</td>\n",
       "      <td>0.0</td>\n",
       "      <td>0.0</td>\n",
       "      <td>68738.0</td>\n",
       "      <td>25972278.0</td>\n",
       "      <td>0.0</td>\n",
       "      <td>35722.0</td>\n",
       "      <td>0.0</td>\n",
       "      <td>0.0</td>\n",
       "      <td>2</td>\n",
       "    </tr>\n",
       "    <tr>\n",
       "      <th>2408</th>\n",
       "      <td>2409</td>\n",
       "      <td>1</td>\n",
       "      <td>2</td>\n",
       "      <td>26</td>\n",
       "      <td>1.0</td>\n",
       "      <td>1550</td>\n",
       "      <td>2</td>\n",
       "      <td>4</td>\n",
       "      <td>2</td>\n",
       "      <td>2</td>\n",
       "      <td>...</td>\n",
       "      <td>NaN</td>\n",
       "      <td>NaN</td>\n",
       "      <td>NaN</td>\n",
       "      <td>NaN</td>\n",
       "      <td>NaN</td>\n",
       "      <td>NaN</td>\n",
       "      <td>NaN</td>\n",
       "      <td>NaN</td>\n",
       "      <td>NaN</td>\n",
       "      <td>2</td>\n",
       "    </tr>\n",
       "    <tr>\n",
       "      <th>6086</th>\n",
       "      <td>6087</td>\n",
       "      <td>3</td>\n",
       "      <td>5</td>\n",
       "      <td>23</td>\n",
       "      <td>1.0</td>\n",
       "      <td>14500</td>\n",
       "      <td>4</td>\n",
       "      <td>3</td>\n",
       "      <td>1</td>\n",
       "      <td>2</td>\n",
       "      <td>...</td>\n",
       "      <td>NaN</td>\n",
       "      <td>NaN</td>\n",
       "      <td>NaN</td>\n",
       "      <td>NaN</td>\n",
       "      <td>NaN</td>\n",
       "      <td>NaN</td>\n",
       "      <td>NaN</td>\n",
       "      <td>NaN</td>\n",
       "      <td>NaN</td>\n",
       "      <td>2</td>\n",
       "    </tr>\n",
       "    <tr>\n",
       "      <th>392</th>\n",
       "      <td>393</td>\n",
       "      <td>3</td>\n",
       "      <td>6</td>\n",
       "      <td>23</td>\n",
       "      <td>1.0</td>\n",
       "      <td>78000</td>\n",
       "      <td>6</td>\n",
       "      <td>3</td>\n",
       "      <td>6</td>\n",
       "      <td>1</td>\n",
       "      <td>...</td>\n",
       "      <td>NaN</td>\n",
       "      <td>NaN</td>\n",
       "      <td>NaN</td>\n",
       "      <td>NaN</td>\n",
       "      <td>NaN</td>\n",
       "      <td>NaN</td>\n",
       "      <td>NaN</td>\n",
       "      <td>NaN</td>\n",
       "      <td>NaN</td>\n",
       "      <td>2</td>\n",
       "    </tr>\n",
       "    <tr>\n",
       "      <th>630</th>\n",
       "      <td>631</td>\n",
       "      <td>1</td>\n",
       "      <td>2</td>\n",
       "      <td>14</td>\n",
       "      <td>1.0</td>\n",
       "      <td>142000</td>\n",
       "      <td>7</td>\n",
       "      <td>3</td>\n",
       "      <td>1</td>\n",
       "      <td>2</td>\n",
       "      <td>...</td>\n",
       "      <td>NaN</td>\n",
       "      <td>NaN</td>\n",
       "      <td>NaN</td>\n",
       "      <td>NaN</td>\n",
       "      <td>NaN</td>\n",
       "      <td>NaN</td>\n",
       "      <td>NaN</td>\n",
       "      <td>NaN</td>\n",
       "      <td>NaN</td>\n",
       "      <td>1</td>\n",
       "    </tr>\n",
       "  </tbody>\n",
       "</table>\n",
       "<p>5 rows × 516 columns</p>\n",
       "</div>"
      ],
      "text/plain": [
       "      PUBID  REGION  CENDIV  PBA  FREESTN    SQFT  SQFTC  WLCNS  RFCNS  \\\n",
       "2153   2154       3       5   13      1.0  600000      9      1      1   \n",
       "2408   2409       1       2   26      1.0    1550      2      4      2   \n",
       "6086   6087       3       5   23      1.0   14500      4      3      1   \n",
       "392     393       3       6   23      1.0   78000      6      3      6   \n",
       "630     631       1       2   14      1.0  142000      7      3      1   \n",
       "\n",
       "      RFCOOL  ...  FKCLBTU  FKWTBTU  FKCKBTU  FKOTBTU     DHHTBTU  DHCLBTU  \\\n",
       "2153       2  ...      0.0      0.0      0.0  68738.0  25972278.0      0.0   \n",
       "2408       2  ...      NaN      NaN      NaN      NaN         NaN      NaN   \n",
       "6086       2  ...      NaN      NaN      NaN      NaN         NaN      NaN   \n",
       "392        1  ...      NaN      NaN      NaN      NaN         NaN      NaN   \n",
       "630        2  ...      NaN      NaN      NaN      NaN         NaN      NaN   \n",
       "\n",
       "      DHWTBTU  DHCKBTU  DHOTBTU  PUBCLIM  \n",
       "2153  35722.0      0.0      0.0        2  \n",
       "2408      NaN      NaN      NaN        2  \n",
       "6086      NaN      NaN      NaN        2  \n",
       "392       NaN      NaN      NaN        2  \n",
       "630       NaN      NaN      NaN        1  \n",
       "\n",
       "[5 rows x 516 columns]"
      ]
     },
     "execution_count": 8,
     "metadata": {},
     "output_type": "execute_result"
    }
   ],
   "source": [
    "df = df[keep_cols]\n",
    "print(df.shape)\n",
    "df.sample(5)"
   ]
  },
  {
   "cell_type": "code",
   "execution_count": 9,
   "id": "c46d4650",
   "metadata": {},
   "outputs": [
    {
     "data": {
      "text/plain": [
       "['PUBID', 'REGION', 'CENDIV', 'PBA']"
      ]
     },
     "execution_count": 9,
     "metadata": {},
     "output_type": "execute_result"
    }
   ],
   "source": [
    "category_map[0]"
   ]
  },
  {
   "cell_type": "code",
   "execution_count": 19,
   "id": "a596ba0f",
   "metadata": {},
   "outputs": [
    {
     "name": "stdout",
     "output_type": "stream",
     "text": [
      "0\n",
      "<class 'numpy.int64'>\n",
      "1\n",
      "<class 'numpy.int64'>\n",
      "2\n",
      "<class 'numpy.int64'>\n",
      "3\n",
      "<class 'numpy.int64'>\n",
      "4\n",
      "<class 'numpy.int64'>\n",
      "5\n",
      "<class 'numpy.int64'>\n",
      "6\n",
      "<class 'numpy.int64'>\n",
      "7\n",
      "<class 'numpy.int64'>\n",
      "10\n",
      "<class 'numpy.int64'>\n"
     ]
    },
    {
     "data": {
      "text/html": [
       "<div>\n",
       "<style scoped>\n",
       "    .dataframe tbody tr th:only-of-type {\n",
       "        vertical-align: middle;\n",
       "    }\n",
       "\n",
       "    .dataframe tbody tr th {\n",
       "        vertical-align: top;\n",
       "    }\n",
       "\n",
       "    .dataframe thead th {\n",
       "        text-align: right;\n",
       "    }\n",
       "</style>\n",
       "<table border=\"1\" class=\"dataframe\">\n",
       "  <thead>\n",
       "    <tr style=\"text-align: right;\">\n",
       "      <th></th>\n",
       "      <th>PUBID</th>\n",
       "      <th>REGION</th>\n",
       "      <th>CENDIV</th>\n",
       "      <th>PBA</th>\n",
       "    </tr>\n",
       "  </thead>\n",
       "  <tbody>\n",
       "    <tr>\n",
       "      <th>2285</th>\n",
       "      <td>2286</td>\n",
       "      <td>4</td>\n",
       "      <td>9</td>\n",
       "      <td>15</td>\n",
       "    </tr>\n",
       "    <tr>\n",
       "      <th>3244</th>\n",
       "      <td>3245</td>\n",
       "      <td>3</td>\n",
       "      <td>6</td>\n",
       "      <td>6</td>\n",
       "    </tr>\n",
       "    <tr>\n",
       "      <th>3428</th>\n",
       "      <td>3429</td>\n",
       "      <td>2</td>\n",
       "      <td>4</td>\n",
       "      <td>13</td>\n",
       "    </tr>\n",
       "    <tr>\n",
       "      <th>94</th>\n",
       "      <td>95</td>\n",
       "      <td>4</td>\n",
       "      <td>8</td>\n",
       "      <td>13</td>\n",
       "    </tr>\n",
       "    <tr>\n",
       "      <th>5661</th>\n",
       "      <td>5662</td>\n",
       "      <td>3</td>\n",
       "      <td>5</td>\n",
       "      <td>14</td>\n",
       "    </tr>\n",
       "    <tr>\n",
       "      <th>5798</th>\n",
       "      <td>5799</td>\n",
       "      <td>4</td>\n",
       "      <td>9</td>\n",
       "      <td>18</td>\n",
       "    </tr>\n",
       "    <tr>\n",
       "      <th>802</th>\n",
       "      <td>803</td>\n",
       "      <td>2</td>\n",
       "      <td>3</td>\n",
       "      <td>14</td>\n",
       "    </tr>\n",
       "    <tr>\n",
       "      <th>2981</th>\n",
       "      <td>2982</td>\n",
       "      <td>3</td>\n",
       "      <td>7</td>\n",
       "      <td>2</td>\n",
       "    </tr>\n",
       "    <tr>\n",
       "      <th>5893</th>\n",
       "      <td>5894</td>\n",
       "      <td>4</td>\n",
       "      <td>9</td>\n",
       "      <td>2</td>\n",
       "    </tr>\n",
       "    <tr>\n",
       "      <th>4327</th>\n",
       "      <td>4328</td>\n",
       "      <td>4</td>\n",
       "      <td>8</td>\n",
       "      <td>15</td>\n",
       "    </tr>\n",
       "  </tbody>\n",
       "</table>\n",
       "</div>"
      ],
      "text/plain": [
       "      PUBID  REGION  CENDIV  PBA\n",
       "2285   2286       4       9   15\n",
       "3244   3245       3       6    6\n",
       "3428   3429       2       4   13\n",
       "94       95       4       8   13\n",
       "5661   5662       3       5   14\n",
       "5798   5799       4       9   18\n",
       "802     803       2       3   14\n",
       "2981   2982       3       7    2\n",
       "5893   5894       4       9    2\n",
       "4327   4328       4       8   15"
      ]
     },
     "execution_count": 19,
     "metadata": {},
     "output_type": "execute_result"
    }
   ],
   "source": [
    "category_dfs = {}\n",
    "for cat_name, cat_list in category_map.items():\n",
    "    category_dfs[cat_name] = df[cat_list]\n",
    "category_dfs[0].sample(10)"
   ]
  },
  {
   "cell_type": "code",
   "execution_count": 39,
   "id": "fa75dca2",
   "metadata": {},
   "outputs": [],
   "source": [
    "codebook_test = df_codebook.copy().set_index('col_name')\n",
    "num_cols = []\n",
    "for col in codebook_test.index:\n",
    "    if codebook_test.loc[col].col_type == 'Num':\n",
    "        num_cols.append(col)"
   ]
  },
  {
   "cell_type": "markdown",
   "id": "5e9fdba0",
   "metadata": {},
   "source": [
    "### EDA Category 1\n",
    "\n",
    "Building Attributes - tried to select only continuous variables\n",
    "1. Square Footage (SQFT) 1,001 - 1,500,000\n",
    "2. Number of Floors (NFLOOR) 1-14, 994=15-25, 995= >25\n",
    "3. Year of construction (YRCON) 995=<1946, 1946-2012\n",
    "4. Any Renovations (RENOV) 1=yes, 2=no\n",
    "\n",
    "Total Size n = 6720\n",
    "\n",
    "Grouped by Rennovation status (`NFLOOR`, `SQFT`, `YRCON`) \n",
    "- RENOV = 1 \n",
    "    - n = 3423\n",
    "    - mean = 47.776220\t173371.279287\t1826.157172\n",
    "    - median = 2\t42000\t1974\n",
    "    - std = 206.210635\t310598.178086\t355.687342\n",
    "- RENOV = 2 \n",
    "    - n = 2936\n",
    "    - mean = 11.026226\t70129.489441\t1883.572548\n",
    "    - median = 1\t10750\t1985\n",
    "    - std = 94.754694\t174537.161246\t301.333128\n",
    "- RENOV Missing\n",
    "    - n = 361\n",
    "    \n",
    "Visualizations\n",
    "- I need to do some more precise manipulation to get a better idea of the spread of the data (i.e. having a hard time visualizing num floors and year constructed due to the flagged variables (994/995)\n",
    "\n",
    "General Thoughts\n",
    "- Roughly even distribution of unrennovated/rennovated buildings\n",
    "- Coded data throws off averages, so better to use medians\n",
    "- Older buildings without rennovations are larger (sqft/numfloor)\n",
    "- Younger buildings with rennovations are smaller (sqft/numfloor)"
   ]
  },
  {
   "cell_type": "code",
   "execution_count": 33,
   "id": "570fdce6",
   "metadata": {},
   "outputs": [
    {
     "data": {
      "text/plain": [
       "(6720, 69)"
      ]
     },
     "execution_count": 33,
     "metadata": {},
     "output_type": "execute_result"
    }
   ],
   "source": [
    "category_dfs[1].shape"
   ]
  },
  {
   "cell_type": "code",
   "execution_count": 43,
   "id": "6ec5d429",
   "metadata": {},
   "outputs": [
    {
     "name": "stdout",
     "output_type": "stream",
     "text": [
      "['SQFT', 'NFLOOR', 'BASEMNT', 'FLCEILHT', 'NELVTR', 'NESLTR', 'YRCON', 'ACT1PCT', 'ACT2PCT', 'ACT3PCT', 'RWSEAT', 'PBSEAT', 'EDSEAT', 'FDSEAT', 'HCBED', 'NRSBED', 'LODGRM']\n"
     ]
    }
   ],
   "source": [
    "num_cols_cat1 = []\n",
    "for col in category_dfs[1].columns:\n",
    "    #print(category_dfs[1][col].dtype)\n",
    "    if col in num_cols:\n",
    "        num_cols_cat1.append(col)\n",
    "print(num_cols_cat1)"
   ]
  },
  {
   "cell_type": "code",
   "execution_count": 44,
   "id": "5b45dcf7",
   "metadata": {},
   "outputs": [
    {
     "name": "stdout",
     "output_type": "stream",
     "text": [
      "6720\n"
     ]
    }
   ],
   "source": [
    "df1 = category_dfs[1].copy()[num_cols_cat1]\n",
    "df1_total = df1.shape[0]\n",
    "print(df1_total)"
   ]
  },
  {
   "cell_type": "code",
   "execution_count": 45,
   "id": "4b901030",
   "metadata": {},
   "outputs": [
    {
     "data": {
      "text/plain": [
       "<AxesSubplot:xlabel='SQFT', ylabel='Count'>"
      ]
     },
     "execution_count": 45,
     "metadata": {},
     "output_type": "execute_result"
    },
    {
     "data": {
      "image/png": "[encoded data removed]",
      "text/plain": [
       "<Figure size 432x288 with 1 Axes>"
      ]
     },
     "metadata": {
      "needs_background": "light"
     },
     "output_type": "display_data"
    }
   ],
   "source": [
    "sns.histplot(df1, x='SQFT', binwidth=100000)"
   ]
  },
  {
   "cell_type": "code",
   "execution_count": 46,
   "id": "b949947c",
   "metadata": {},
   "outputs": [
    {
     "data": {
      "text/plain": [
       "<AxesSubplot:xlabel='YRCON', ylabel='Count'>"
      ]
     },
     "execution_count": 46,
     "metadata": {},
     "output_type": "execute_result"
    },
    {
     "data": {
      "image/png": "[encoded data removed]",
      "text/plain": [
       "<Figure size 432x288 with 1 Axes>"
      ]
     },
     "metadata": {
      "needs_background": "light"
     },
     "output_type": "display_data"
    }
   ],
   "source": [
    "sns.histplot(df1, x='YRCON')"
   ]
  },
  {
   "cell_type": "markdown",
   "id": "88d160a8",
   "metadata": {},
   "source": [
    "### EDA Category 2\n",
    "\n",
    "Building Ownership - Not now"
   ]
  },
  {
   "cell_type": "code",
   "execution_count": 50,
   "id": "1400218a",
   "metadata": {},
   "outputs": [
    {
     "name": "stdout",
     "output_type": "stream",
     "text": [
      "['NOCC']\n",
      "6720\n"
     ]
    }
   ],
   "source": [
    "num_cols_cat2 = []\n",
    "for col in category_dfs[2].columns:\n",
    "    if col in num_cols:\n",
    "        num_cols_cat2.append(col)\n",
    "print(num_cols_cat2)\n",
    "\n",
    "df2 = category_dfs[2].copy()[num_cols_cat2]\n",
    "df2_total = df2.shape[0]\n",
    "print(df2_total)"
   ]
  },
  {
   "cell_type": "markdown",
   "id": "0cc2464d",
   "metadata": {},
   "source": [
    "### EDA Category 3\n",
    "\n",
    "Operations"
   ]
  },
  {
   "cell_type": "code",
   "execution_count": 49,
   "id": "b8e66e5c",
   "metadata": {},
   "outputs": [
    {
     "name": "stdout",
     "output_type": "stream",
     "text": [
      "['MONUSE', 'OCCUPYP', 'LODOCCP', 'WKHRS', 'NWKER']\n",
      "6720\n"
     ]
    }
   ],
   "source": [
    "num_cols_cat3 = []\n",
    "for col in category_dfs[3].columns:\n",
    "    if col in num_cols:\n",
    "        num_cols_cat3.append(col)\n",
    "print(num_cols_cat3)\n",
    "\n",
    "df3 = category_dfs[3].copy()[num_cols_cat3]\n",
    "df3_total = df3.shape[0]\n",
    "print(df3_total)"
   ]
  },
  {
   "cell_type": "markdown",
   "id": "8781aa40",
   "metadata": {},
   "source": [
    "### EDA Category 4\n",
    "\n",
    "Energy Source / Purpose"
   ]
  },
  {
   "cell_type": "code",
   "execution_count": 51,
   "id": "0f601106",
   "metadata": {},
   "outputs": [
    {
     "name": "stdout",
     "output_type": "stream",
     "text": [
      "['HEATP', 'FURNP', 'PKGHP', 'BOILP', 'STHWP', 'HTPHP', 'SLFCNP', 'OTHTP', 'COOLP', 'RCACP', 'PKGCP', 'CHILP', 'CHWTP', 'HTPCP', 'ACWNWP', 'EVAPP', 'OTCLP', 'BOOSTWT', 'ELLUPCT', 'WOEXP']\n",
      "6720\n"
     ]
    }
   ],
   "source": [
    "num_cols_cat4 = []\n",
    "for col in category_dfs[4].columns:\n",
    "    if col in num_cols:\n",
    "        num_cols_cat4.append(col)\n",
    "print(num_cols_cat4)\n",
    "\n",
    "df4 = category_dfs[4].copy()[num_cols_cat4]\n",
    "df4_total = df4.shape[0]\n",
    "print(df4_total)"
   ]
  },
  {
   "cell_type": "markdown",
   "id": "91309ba0",
   "metadata": {},
   "source": [
    "### EDA Category 5\n",
    "\n",
    "Energy Management"
   ]
  },
  {
   "cell_type": "code",
   "execution_count": 52,
   "id": "527b4356",
   "metadata": {},
   "outputs": [
    {
     "name": "stdout",
     "output_type": "stream",
     "text": [
      "[]\n",
      "6720\n"
     ]
    }
   ],
   "source": [
    "num_cols_cat5 = []\n",
    "for col in category_dfs[5].columns:\n",
    "    if col in num_cols:\n",
    "        num_cols_cat5.append(col)\n",
    "print(num_cols_cat5)\n",
    "\n",
    "df5 = category_dfs[5].copy()[num_cols_cat5]\n",
    "df5_total = df5.shape[0]\n",
    "print(df5_total)"
   ]
  },
  {
   "cell_type": "markdown",
   "id": "92964fa9",
   "metadata": {},
   "source": [
    "### EDA Category 6\n",
    "\n",
    "Service Industry Characteristics - Not right now"
   ]
  },
  {
   "cell_type": "code",
   "execution_count": 53,
   "id": "d72851da",
   "metadata": {},
   "outputs": [
    {
     "name": "stdout",
     "output_type": "stream",
     "text": [
      "['CONFSPP', 'XRAYN', 'RFGRSN', 'RFGCOMPN', 'RFGWIN', 'RFGOPN', 'RFGCLN', 'RFGVNN', 'RFGICN', 'RFGSTP', 'PCTERMN', 'LAPTPN', 'PRNTRN', 'SERVERN', 'TVVIDEON', 'RGSTRN', 'COPIERN']\n",
      "6720\n"
     ]
    }
   ],
   "source": [
    "num_cols_cat6 = []\n",
    "for col in category_dfs[6].columns:\n",
    "    if col in num_cols:\n",
    "        num_cols_cat6.append(col)\n",
    "print(num_cols_cat6)\n",
    "\n",
    "df6 = category_dfs[6].copy()[num_cols_cat6]\n",
    "df6_total = df6.shape[0]\n",
    "print(df6_total)"
   ]
  },
  {
   "cell_type": "markdown",
   "id": "3f68b0a1",
   "metadata": {},
   "source": [
    "### Category 7\n",
    "\n",
    "Lighting"
   ]
  },
  {
   "cell_type": "code",
   "execution_count": 54,
   "id": "e6c3cd74",
   "metadata": {},
   "outputs": [
    {
     "name": "stdout",
     "output_type": "stream",
     "text": [
      "['LTOHRP', 'LTNHRP', 'FLUORP', 'CFLRP', 'BULBP', 'HALOP', 'HIDP', 'LEDP', 'OTLTP', 'DAYLTP']\n",
      "6720\n"
     ]
    }
   ],
   "source": [
    "num_cols_cat7 = []\n",
    "for col in category_dfs[7].columns:\n",
    "    if col in num_cols:\n",
    "        num_cols_cat7.append(col)\n",
    "print(num_cols_cat7)\n",
    "\n",
    "df7 = category_dfs[7].copy()[num_cols_cat7]\n",
    "df7_total = df7.shape[0]\n",
    "print(df7_total)"
   ]
  },
  {
   "cell_type": "markdown",
   "id": "c30385da",
   "metadata": {},
   "source": [
    "### Category 10\n",
    "\n",
    "Energy Expenses and Consumption"
   ]
  },
  {
   "cell_type": "code",
   "execution_count": 55,
   "id": "71a1853e",
   "metadata": {},
   "outputs": [
    {
     "name": "stdout",
     "output_type": "stream",
     "text": [
      "['HDD65', 'CDD65', 'MFBTU', 'MFEXP', 'ELCNS', 'ELBTU', 'ELEXP', 'NGCNS', 'NGBTU', 'NGEXP', 'FKCNS', 'FKBTU', 'FKEXP', 'DHCNS', 'DHBTU', 'DHEXP', 'MFHTBTU', 'MFCLBTU', 'MFVNBTU', 'MFWTBTU', 'MFLTBTU', 'MFCKBTU', 'MFRFBTU', 'MFOFBTU', 'MFPCBTU', 'MFOTBTU', 'ELHTBTU', 'ELCLBTU', 'ELVNBTU', 'ELWTBTU', 'ELLTBTU', 'ELCKBTU', 'ELRFBTU', 'ELOFBTU', 'ELPCBTU', 'ELOTBTU', 'NGHTBTU', 'NGCLBTU', 'NGWTBTU', 'NGCKBTU', 'NGOTBTU', 'FKHTBTU', 'FKCLBTU', 'FKWTBTU', 'FKCKBTU', 'FKOTBTU', 'DHHTBTU', 'DHCLBTU', 'DHWTBTU', 'DHCKBTU', 'DHOTBTU']\n",
      "6720\n"
     ]
    }
   ],
   "source": [
    "num_cols_cat10 = []\n",
    "for col in category_dfs[10].columns:\n",
    "    if col in num_cols:\n",
    "        num_cols_cat10.append(col)\n",
    "print(num_cols_cat10)\n",
    "\n",
    "df10 = category_dfs[10].copy()[num_cols_cat10]\n",
    "df10_total = df10.shape[0]\n",
    "print(df10_total)"
   ]
  },
  {
   "cell_type": "code",
   "execution_count": null,
   "id": "b2065b85",
   "metadata": {},
   "outputs": [],
   "source": []
  }
 ],
 "metadata": {
  "kernelspec": {
   "display_name": "Python 3",
   "language": "python",
   "name": "python3"
  },
  "language_info": {
   "codemirror_mode": {
    "name": "ipython",
    "version": 3
   },
   "file_extension": ".py",
   "mimetype": "text/x-python",
   "name": "python",
   "nbconvert_exporter": "python",
   "pygments_lexer": "ipython3",
   "version": "3.9.4"
  }
 },
 "nbformat": 4,
 "nbformat_minor": 5
}
