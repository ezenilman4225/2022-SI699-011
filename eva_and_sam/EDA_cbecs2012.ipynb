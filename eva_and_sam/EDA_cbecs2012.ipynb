{
 "cells": [
  {
   "cell_type": "code",
   "execution_count": 1,
   "id": "25cd5d70",
   "metadata": {},
   "outputs": [],
   "source": [
    "import pandas as pd\n",
    "import numpy as np\n",
    "import seaborn as sns\n",
    "import re"
   ]
  },
  {
   "cell_type": "code",
   "execution_count": 6,
   "id": "7b973ade",
   "metadata": {},
   "outputs": [
    {
     "name": "stdout",
     "output_type": "stream",
     "text": [
      "(6720, 1119)\n"
     ]
    }
   ],
   "source": [
    "df = pd.read_csv('2012_public_use_data_aug2016.csv')\n",
    "print(df.shape)"
   ]
  },
  {
   "cell_type": "code",
   "execution_count": 7,
   "id": "22a57485",
   "metadata": {},
   "outputs": [
    {
     "name": "stdout",
     "output_type": "stream",
     "text": [
      "Index(['CATEOGORIES', 'File order', 'Variable\\r\\nname', 'Variable type',\n",
      "       'Len-\\r\\ngth', 'Format', 'Label', 'Values/Format codes', 'Unnamed: 8'],\n",
      "      dtype='object')\n"
     ]
    },
    {
     "data": {
      "text/html": [
       "<div>\n",
       "<style scoped>\n",
       "    .dataframe tbody tr th:only-of-type {\n",
       "        vertical-align: middle;\n",
       "    }\n",
       "\n",
       "    .dataframe tbody tr th {\n",
       "        vertical-align: top;\n",
       "    }\n",
       "\n",
       "    .dataframe thead th {\n",
       "        text-align: right;\n",
       "    }\n",
       "</style>\n",
       "<table border=\"1\" class=\"dataframe\">\n",
       "  <thead>\n",
       "    <tr style=\"text-align: right;\">\n",
       "      <th></th>\n",
       "      <th>CATEOGORIES</th>\n",
       "      <th>File order</th>\n",
       "      <th>Variable\\r\\nname</th>\n",
       "      <th>Variable type</th>\n",
       "      <th>Len-\\r\\ngth</th>\n",
       "      <th>Format</th>\n",
       "      <th>Label</th>\n",
       "      <th>Values/Format codes</th>\n",
       "      <th>Unnamed: 8</th>\n",
       "    </tr>\n",
       "  </thead>\n",
       "  <tbody>\n",
       "    <tr>\n",
       "      <th>0</th>\n",
       "      <td>0</td>\n",
       "      <td>1.0</td>\n",
       "      <td>PUBID</td>\n",
       "      <td>Char</td>\n",
       "      <td>5.0</td>\n",
       "      <td>NaN</td>\n",
       "      <td>Building identifier</td>\n",
       "      <td>00001 - 06720</td>\n",
       "      <td>NaN</td>\n",
       "    </tr>\n",
       "    <tr>\n",
       "      <th>1</th>\n",
       "      <td>0</td>\n",
       "      <td>2.0</td>\n",
       "      <td>REGION</td>\n",
       "      <td>Char</td>\n",
       "      <td>1.0</td>\n",
       "      <td>$REGION.</td>\n",
       "      <td>Census region</td>\n",
       "      <td>'1' = 'Northeast'\\r\\n'2' = 'Midwest'\\r\\n'3' = ...</td>\n",
       "      <td>NaN</td>\n",
       "    </tr>\n",
       "    <tr>\n",
       "      <th>2</th>\n",
       "      <td>0</td>\n",
       "      <td>3.0</td>\n",
       "      <td>CENDIV</td>\n",
       "      <td>Char</td>\n",
       "      <td>1.0</td>\n",
       "      <td>$CENDIV.</td>\n",
       "      <td>Census division</td>\n",
       "      <td>'1' = 'New England'\\r\\n'2' = 'Middle Atlantic'...</td>\n",
       "      <td>NaN</td>\n",
       "    </tr>\n",
       "    <tr>\n",
       "      <th>3</th>\n",
       "      <td>0</td>\n",
       "      <td>4.0</td>\n",
       "      <td>PBA</td>\n",
       "      <td>Char</td>\n",
       "      <td>2.0</td>\n",
       "      <td>$PBA.</td>\n",
       "      <td>Principal building activity</td>\n",
       "      <td>'01' = 'Vacant'\\r\\n'02' = 'Office'\\r\\n'04' = '...</td>\n",
       "      <td>NaN</td>\n",
       "    </tr>\n",
       "    <tr>\n",
       "      <th>4</th>\n",
       "      <td>1</td>\n",
       "      <td>5.0</td>\n",
       "      <td>FREESTN</td>\n",
       "      <td>Char</td>\n",
       "      <td>1.0</td>\n",
       "      <td>$YES.</td>\n",
       "      <td>Freestanding building</td>\n",
       "      <td>1' = 'Yes'\\r\\nMissing='No'</td>\n",
       "      <td>NaN</td>\n",
       "    </tr>\n",
       "  </tbody>\n",
       "</table>\n",
       "</div>"
      ],
      "text/plain": [
       "  CATEOGORIES  File order Variable\\r\\nname Variable type  Len-\\r\\ngth  \\\n",
       "0           0         1.0            PUBID          Char          5.0   \n",
       "1           0         2.0           REGION          Char          1.0   \n",
       "2           0         3.0           CENDIV          Char          1.0   \n",
       "3           0         4.0              PBA          Char          2.0   \n",
       "4           1         5.0          FREESTN          Char          1.0   \n",
       "\n",
       "     Format                        Label  \\\n",
       "0       NaN          Building identifier   \n",
       "1  $REGION.                Census region   \n",
       "2  $CENDIV.              Census division   \n",
       "3     $PBA.  Principal building activity   \n",
       "4     $YES.        Freestanding building   \n",
       "\n",
       "                                 Values/Format codes  Unnamed: 8  \n",
       "0                                      00001 - 06720         NaN  \n",
       "1  '1' = 'Northeast'\\r\\n'2' = 'Midwest'\\r\\n'3' = ...         NaN  \n",
       "2  '1' = 'New England'\\r\\n'2' = 'Middle Atlantic'...         NaN  \n",
       "3  '01' = 'Vacant'\\r\\n'02' = 'Office'\\r\\n'04' = '...         NaN  \n",
       "4                        1' = 'Yes'\\r\\nMissing='No'          NaN  "
      ]
     },
     "execution_count": 7,
     "metadata": {},
     "output_type": "execute_result"
    }
   ],
   "source": [
    "# update with new codebook created from \"clean_cbecs2012_codebook.ipynb\"\n",
    "df_codebook = pd.read_csv('grouped_2012microdata_codebook.csv')"
   ]
  },
  {
   "cell_type": "markdown",
   "id": "bf674bcf",
   "metadata": {},
   "source": [
    "## EDA\n",
    "\n",
    "Separated by Category (1-7, 10)"
   ]
  },
  {
   "cell_type": "code",
   "execution_count": null,
   "id": "3a7ccbc4",
   "metadata": {},
   "outputs": [],
   "source": [
    "df = df.drop(columns=category_map['get rid of'])\n",
    "print(df.shape)\n",
    "df.sample(5)"
   ]
  },
  {
   "cell_type": "code",
   "execution_count": null,
   "id": "de5c5d8f",
   "metadata": {},
   "outputs": [],
   "source": [
    "new_1 = []\n",
    "for cat_name in category_map['1']:\n",
    "    if type(cat_name) == str:\n",
    "        new_1.append(cat_name)\n",
    "category_map['1'] = np.array(new_1)\n",
    "category_map['1']"
   ]
  },
  {
   "cell_type": "code",
   "execution_count": null,
   "id": "a596ba0f",
   "metadata": {},
   "outputs": [],
   "source": [
    "dfs = {}\n",
    "for cat_name, cat_list in category_map.items():\n",
    "    if cat_name != 'get rid of':\n",
    "        dfs[cat_name] = df[cat_list]\n",
    "dfs['0'].sample(10)"
   ]
  },
  {
   "cell_type": "code",
   "execution_count": null,
   "id": "6e2ecbd3",
   "metadata": {},
   "outputs": [],
   "source": [
    "dfs['0'].groupby('CENDIV').size()"
   ]
  },
  {
   "cell_type": "markdown",
   "id": "5e9fdba0",
   "metadata": {},
   "source": [
    "### EDA Category 1\n",
    "\n",
    "Building Attributes - tried to select only continuous variables\n",
    "1. Square Footage (SQFT) 1,001 - 1,500,000\n",
    "2. Number of Floors (NFLOOR) 1-14, 994=15-25, 995= >25\n",
    "3. Year of construction (YRCON) 995=<1946, 1946-2012\n",
    "4. Any Renovations (RENOV) 1=yes, 2=no\n",
    "\n",
    "Total Size n = 6720\n",
    "\n",
    "Grouped by Rennovation status (`NFLOOR`, `SQFT`, `YRCON`) \n",
    "- RENOV = 1 \n",
    "    - n = 3423\n",
    "    - mean = 47.776220\t173371.279287\t1826.157172\n",
    "    - median = 2\t42000\t1974\n",
    "    - std = 206.210635\t310598.178086\t355.687342\n",
    "- RENOV = 2 \n",
    "    - n = 2936\n",
    "    - mean = 11.026226\t70129.489441\t1883.572548\n",
    "    - median = 1\t10750\t1985\n",
    "    - std = 94.754694\t174537.161246\t301.333128\n",
    "- RENOV Missing\n",
    "    - n = 361\n",
    "    \n",
    "Visualizations\n",
    "- I need to do some more precise manipulation to get a better idea of the spread of the data (i.e. having a hard time visualizing num floors and year constructed due to the flagged variables (994/995)\n",
    "\n",
    "General Thoughts\n",
    "- Roughly even distribution of unrennovated/rennovated buildings\n",
    "- Coded data throws off averages, so better to use medians\n",
    "- Older buildings without rennovations are larger (sqft/numfloor)\n",
    "- Younger buildings with rennovations are smaller (sqft/numfloor)"
   ]
  },
  {
   "cell_type": "code",
   "execution_count": null,
   "id": "f4cfd4c4",
   "metadata": {},
   "outputs": [],
   "source": [
    "cat1_descriptions = category_dfs['1'][['col_name', 'col_description']].to_dict(orient='records')\n",
    "cat1_cols_interest_descriptions = ['Square footage', 'Number of floors',  'Year of construction', 'Any renovations',]\n",
    "cat1_cols_interest = []\n",
    "for dictionary in cat1_descriptions:\n",
    "    if dictionary['col_description'] in cat1_cols_interest_descriptions:\n",
    "        cat1_cols_interest.append(dictionary['col_name'])\n",
    "        print(dictionary['col_description'])\n",
    "cat1_cols_interest\n",
    "\n",
    "#SQFT Codes (Continuous)\n",
    "#1,001 - 1,500,000\n",
    "\n",
    "\n",
    "#NFLOOR CODES (both Continuous/Categorical)\n",
    "#\"1 - 14\n",
    "#994 = 15 to 25\n",
    "#995 = More than 25\"\n",
    "\n",
    "#YRCON CODES (Mostly Continuous)\n",
    "#\"995 = Before 1946\n",
    "#1946 - 2012\"\n",
    "\n",
    "#RENOV CODES\n",
    "#\"'1' = 'Yes'\n",
    "#'2' = 'No'\n",
    "#Missing = Not applicable\"\n"
   ]
  },
  {
   "cell_type": "code",
   "execution_count": null,
   "id": "5b45dcf7",
   "metadata": {},
   "outputs": [],
   "source": [
    "df1 = df[cat1_cols_interest]\n",
    "df1_total = df1.shape[0]\n",
    "renov_group = df1.groupby('RENOV').size()\n",
    "print(df1_total)\n",
    "print(renov_group)\n",
    "print(df1_total - (renov_group[1] + renov_group[2]))"
   ]
  },
  {
   "cell_type": "code",
   "execution_count": null,
   "id": "8d760b18",
   "metadata": {},
   "outputs": [],
   "source": [
    "df1.pivot_table(index='RENOV', values=['SQFT', 'NFLOOR', 'YRCON'], aggfunc=np.mean)"
   ]
  },
  {
   "cell_type": "code",
   "execution_count": null,
   "id": "2e22628d",
   "metadata": {},
   "outputs": [],
   "source": [
    "df1.pivot_table(index='RENOV', values=['SQFT', 'NFLOOR', 'YRCON'], aggfunc=np.std)"
   ]
  },
  {
   "cell_type": "code",
   "execution_count": null,
   "id": "c8d31e13",
   "metadata": {},
   "outputs": [],
   "source": [
    "df1.pivot_table(index='RENOV', values=['SQFT', 'NFLOOR', 'YRCON'], aggfunc=np.min)"
   ]
  },
  {
   "cell_type": "code",
   "execution_count": null,
   "id": "ac5af1c5",
   "metadata": {},
   "outputs": [],
   "source": [
    "df1.pivot_table(index='RENOV', values=['SQFT', 'NFLOOR', 'YRCON'], aggfunc=np.max)"
   ]
  },
  {
   "cell_type": "code",
   "execution_count": null,
   "id": "7ec6e894",
   "metadata": {},
   "outputs": [],
   "source": [
    "df1.pivot_table(index='RENOV', values=['SQFT', 'NFLOOR', 'YRCON'], aggfunc=np.median)"
   ]
  },
  {
   "cell_type": "code",
   "execution_count": null,
   "id": "4b901030",
   "metadata": {},
   "outputs": [],
   "source": [
    "sns.histplot(df1, x='SQFT', binwidth=100000, hue='RENOV')"
   ]
  },
  {
   "cell_type": "code",
   "execution_count": null,
   "id": "b949947c",
   "metadata": {},
   "outputs": [],
   "source": [
    "sns.histplot(df1, x='YRCON')"
   ]
  },
  {
   "cell_type": "markdown",
   "id": "88d160a8",
   "metadata": {},
   "source": [
    "### EDA Category 2\n",
    "\n",
    "Building Ownership - Not now"
   ]
  },
  {
   "cell_type": "code",
   "execution_count": null,
   "id": "e2052003",
   "metadata": {},
   "outputs": [],
   "source": [
    "cat2_descriptions = category_dfs['2'][['col_name', 'col_description']].to_dict(orient='records')\n",
    "cat2_descriptions"
   ]
  },
  {
   "cell_type": "markdown",
   "id": "0cc2464d",
   "metadata": {},
   "source": [
    "### EDA Category 3\n",
    "\n",
    "Operations"
   ]
  },
  {
   "cell_type": "code",
   "execution_count": null,
   "id": "b8e66e5c",
   "metadata": {},
   "outputs": [],
   "source": [
    "cat3_descriptions = category_dfs['3'][['col_name', 'col_description']].to_dict(orient='records')\n",
    "cat3_descriptions"
   ]
  },
  {
   "cell_type": "code",
   "execution_count": null,
   "id": "bd245b2b",
   "metadata": {},
   "outputs": [],
   "source": [
    "cat3_cols_interest_descriptions = ['Months in use', 'Percent occupancy',  'Lodging room percent occupancy', 'Total hours open per week', 'Number of employees']\n",
    "cat3_cols_interest = []\n",
    "for dictionary in cat3_descriptions:\n",
    "    if dictionary['col_description'] in cat3_cols_interest_descriptions:\n",
    "        cat3_cols_interest.append(dictionary['col_name'])\n",
    "        print(dictionary['col_description'])\n",
    "cat3_cols_interest\n",
    "\n",
    "# MONUSE CODES\n",
    "# 0 - 12\n",
    "\n",
    "# OCCUPYP, LODOCCP\n",
    "# 0-100\n",
    "\n",
    "# WRKHRS\n",
    "# 0-168\n",
    "\n",
    "# NWKER\n",
    "# 0-6500"
   ]
  },
  {
   "cell_type": "code",
   "execution_count": null,
   "id": "6757445e",
   "metadata": {},
   "outputs": [],
   "source": [
    "df3 = df[cat3_cols_interest]\n",
    "df3.describe()"
   ]
  },
  {
   "cell_type": "code",
   "execution_count": null,
   "id": "73d4b096",
   "metadata": {},
   "outputs": [],
   "source": [
    "df3.groupby('MONUSE').size()"
   ]
  },
  {
   "cell_type": "code",
   "execution_count": null,
   "id": "69f9ba92",
   "metadata": {},
   "outputs": [],
   "source": [
    "df3.pivot_table(index='MONUSE', values=['OCCUPYP', 'LODOCCP', 'WKHRS', 'NWKER'], aggfunc=np.mean)"
   ]
  },
  {
   "cell_type": "code",
   "execution_count": null,
   "id": "f6998022",
   "metadata": {},
   "outputs": [],
   "source": [
    "df3.pivot_table(index='MONUSE', values=['OCCUPYP', 'LODOCCP', 'WKHRS', 'NWKER'], aggfunc=np.std)"
   ]
  },
  {
   "cell_type": "code",
   "execution_count": null,
   "id": "d1b9ca47",
   "metadata": {},
   "outputs": [],
   "source": [
    "df3.pivot_table(index='MONUSE', values=['OCCUPYP', 'LODOCCP', 'WKHRS', 'NWKER'], aggfunc=np.min)"
   ]
  },
  {
   "cell_type": "code",
   "execution_count": null,
   "id": "7e50468e",
   "metadata": {},
   "outputs": [],
   "source": [
    "df3.pivot_table(index='MONUSE', values=['OCCUPYP', 'LODOCCP', 'WKHRS', 'NWKER'], aggfunc=np.max)"
   ]
  },
  {
   "cell_type": "code",
   "execution_count": null,
   "id": "d51bf82c",
   "metadata": {},
   "outputs": [],
   "source": [
    "df3.pivot_table(index='MONUSE', values=['OCCUPYP', 'LODOCCP', 'WKHRS', 'NWKER'], aggfunc=np.median)"
   ]
  },
  {
   "cell_type": "markdown",
   "id": "8781aa40",
   "metadata": {},
   "source": [
    "### EDA Category 4\n",
    "\n",
    "Energy Source / Purpose"
   ]
  },
  {
   "cell_type": "code",
   "execution_count": null,
   "id": "0f601106",
   "metadata": {},
   "outputs": [],
   "source": [
    "cat4_descriptions = category_dfs['4'][['col_name', 'col_description']].to_dict(orient='records')\n",
    "cat4_descriptions"
   ]
  },
  {
   "cell_type": "markdown",
   "id": "91309ba0",
   "metadata": {},
   "source": [
    "### EDA Category 5\n",
    "\n",
    "Energy Management"
   ]
  },
  {
   "cell_type": "code",
   "execution_count": null,
   "id": "527b4356",
   "metadata": {},
   "outputs": [],
   "source": [
    "cat5_descriptions = category_dfs['5'][['col_name', 'col_description']].to_dict(orient='records')\n",
    "cat5_descriptions"
   ]
  },
  {
   "cell_type": "markdown",
   "id": "92964fa9",
   "metadata": {},
   "source": [
    "### EDA Category 6\n",
    "\n",
    "Service Industry Characteristics - Not right now"
   ]
  },
  {
   "cell_type": "code",
   "execution_count": null,
   "id": "d72851da",
   "metadata": {},
   "outputs": [],
   "source": [
    "cat6_descriptions = category_dfs['6'][['col_name', 'col_description']].to_dict(orient='records')\n",
    "cat6_descriptions"
   ]
  },
  {
   "cell_type": "markdown",
   "id": "3f68b0a1",
   "metadata": {},
   "source": [
    "### Category 7\n",
    "\n",
    "Lighting"
   ]
  },
  {
   "cell_type": "code",
   "execution_count": null,
   "id": "e6c3cd74",
   "metadata": {},
   "outputs": [],
   "source": [
    "cat7_descriptions = category_dfs['7'][['col_name', 'col_description']].to_dict(orient='records')\n",
    "cat7_descriptions"
   ]
  },
  {
   "cell_type": "markdown",
   "id": "c30385da",
   "metadata": {},
   "source": [
    "### Category 10\n",
    "\n",
    "Energy Expenses and Consumption"
   ]
  },
  {
   "cell_type": "code",
   "execution_count": null,
   "id": "71a1853e",
   "metadata": {},
   "outputs": [],
   "source": [
    "cat10_descriptions = category_dfs['10'][['col_name', 'col_description']].to_dict(orient='records')\n",
    "cat10_descriptions"
   ]
  },
  {
   "cell_type": "code",
   "execution_count": null,
   "id": "b2065b85",
   "metadata": {},
   "outputs": [],
   "source": []
  }
 ],
 "metadata": {
  "kernelspec": {
   "display_name": "Python 3",
   "language": "python",
   "name": "python3"
  },
  "language_info": {
   "codemirror_mode": {
    "name": "ipython",
    "version": 3
   },
   "file_extension": ".py",
   "mimetype": "text/x-python",
   "name": "python",
   "nbconvert_exporter": "python",
   "pygments_lexer": "ipython3",
   "version": "3.9.2"
  }
 },
 "nbformat": 4,
 "nbformat_minor": 5
}
